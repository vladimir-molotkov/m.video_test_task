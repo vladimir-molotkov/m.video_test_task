{
 "cells": [
  {
   "cell_type": "markdown",
   "id": "ec484ac7",
   "metadata": {},
   "source": [
    "Решение тестового задания, Молотков В.Э. (molotkov1vl@gmail.com)"
   ]
  },
  {
   "cell_type": "code",
   "execution_count": 25,
   "id": "d70c1a51",
   "metadata": {},
   "outputs": [],
   "source": [
    "from scipy.stats import shapiro, f_oneway, mannwhitneyu, ttest_ind\n",
    "import pandas as pd\n",
    "import matplotlib.pyplot as plt\n",
    "import numpy as np\n",
    "\n",
    "plt.style.use('_mpl-gallery')    # Настройка стиля гистограмм"
   ]
  },
  {
   "cell_type": "markdown",
   "id": "cf7df454",
   "metadata": {},
   "source": [
    "Предварительно данные перемещены из docx файла в csv"
   ]
  },
  {
   "cell_type": "code",
   "execution_count": 26,
   "id": "56bc4bf0",
   "metadata": {},
   "outputs": [],
   "source": [
    "data = pd.read_csv('test_data.csv')"
   ]
  },
  {
   "cell_type": "markdown",
   "id": "538d33e1",
   "metadata": {},
   "source": [
    "Задание констант для проверки гипотез"
   ]
  },
  {
   "cell_type": "code",
   "execution_count": 27,
   "id": "2020d044",
   "metadata": {},
   "outputs": [],
   "source": [
    "work_days = 2\n",
    "age = 35"
   ]
  },
  {
   "cell_type": "markdown",
   "id": "87e67351",
   "metadata": {},
   "source": [
    "Проверим данные на пропуски"
   ]
  },
  {
   "cell_type": "code",
   "execution_count": 28,
   "id": "9cd5b7b9",
   "metadata": {},
   "outputs": [
    {
     "data": {
      "text/plain": [
       "Количество больничных дней    0\n",
       "Возраст                       0\n",
       "Пол                           0\n",
       "dtype: int64"
      ]
     },
     "execution_count": 28,
     "metadata": {},
     "output_type": "execute_result"
    }
   ],
   "source": [
    "data.isna().sum()"
   ]
  },
  {
   "cell_type": "code",
   "execution_count": 29,
   "id": "75aef6e6",
   "metadata": {},
   "outputs": [
    {
     "name": "stdout",
     "output_type": "stream",
     "text": [
      "Размер данных - 237 строк\n"
     ]
    }
   ],
   "source": [
    "print(f'Размер данных - {data.shape[0]} строк')"
   ]
  },
  {
   "cell_type": "code",
   "execution_count": 30,
   "id": "cce57758",
   "metadata": {
    "scrolled": true
   },
   "outputs": [
    {
     "data": {
      "text/html": [
       "<div>\n",
       "<style scoped>\n",
       "    .dataframe tbody tr th:only-of-type {\n",
       "        vertical-align: middle;\n",
       "    }\n",
       "\n",
       "    .dataframe tbody tr th {\n",
       "        vertical-align: top;\n",
       "    }\n",
       "\n",
       "    .dataframe thead th {\n",
       "        text-align: right;\n",
       "    }\n",
       "</style>\n",
       "<table border=\"1\" class=\"dataframe\">\n",
       "  <thead>\n",
       "    <tr style=\"text-align: right;\">\n",
       "      <th></th>\n",
       "      <th>Количество больничных дней</th>\n",
       "      <th>Возраст</th>\n",
       "      <th>Пол</th>\n",
       "    </tr>\n",
       "  </thead>\n",
       "  <tbody>\n",
       "    <tr>\n",
       "      <th>0</th>\n",
       "      <td>5</td>\n",
       "      <td>39</td>\n",
       "      <td>Ж</td>\n",
       "    </tr>\n",
       "    <tr>\n",
       "      <th>1</th>\n",
       "      <td>4</td>\n",
       "      <td>54</td>\n",
       "      <td>М</td>\n",
       "    </tr>\n",
       "    <tr>\n",
       "      <th>2</th>\n",
       "      <td>4</td>\n",
       "      <td>26</td>\n",
       "      <td>М</td>\n",
       "    </tr>\n",
       "    <tr>\n",
       "      <th>3</th>\n",
       "      <td>5</td>\n",
       "      <td>42</td>\n",
       "      <td>М</td>\n",
       "    </tr>\n",
       "    <tr>\n",
       "      <th>4</th>\n",
       "      <td>4</td>\n",
       "      <td>29</td>\n",
       "      <td>М</td>\n",
       "    </tr>\n",
       "  </tbody>\n",
       "</table>\n",
       "</div>"
      ],
      "text/plain": [
       "   Количество больничных дней  Возраст Пол\n",
       "0                           5       39   Ж\n",
       "1                           4       54   М\n",
       "2                           4       26   М\n",
       "3                           5       42   М\n",
       "4                           4       29   М"
      ]
     },
     "execution_count": 30,
     "metadata": {},
     "output_type": "execute_result"
    }
   ],
   "source": [
    "data.head()"
   ]
  },
  {
   "cell_type": "markdown",
   "id": "e7061d82",
   "metadata": {},
   "source": [
    "**Проверка гипотезы 1.** \n",
    "\n",
    "Требуется проверить, что мужчины пропускают в течение года более 2 рабочих дней (work_days) по болезни\n",
    "значимо чаще женщин.\n",
    "\n",
    "H0 (нулевая гипотеза) - мужчины пропускают более 2 рабочих дней не чаще женщин.\n",
    "\n",
    "Н1 - мужчины пропускают более 2 рабочих дней значимо чаще женщин.\n",
    "\n",
    "Сначала разделим данные на выборки по условию (пол)."
   ]
  },
  {
   "cell_type": "code",
   "execution_count": 32,
   "id": "6d2e76c0",
   "metadata": {},
   "outputs": [],
   "source": [
    "data_male = data[data['Пол'] == \"М\"]['Количество больничных дней']\n",
    "data_female = data[data['Пол'] == \"Ж\"]['Количество больничных дней']"
   ]
  },
  {
   "cell_type": "markdown",
   "id": "750cc8ed",
   "metadata": {},
   "source": [
    "Для наглядности построим графики распределения количества дней, пропущенных по болезни"
   ]
  },
  {
   "cell_type": "code",
   "execution_count": 33,
   "id": "4beedeba",
   "metadata": {},
   "outputs": [
    {
     "data": {
      "image/png": "[encoded data removed]",
      "text/plain": [
       "<Figure size 200x200 with 1 Axes>"
      ]
     },
     "metadata": {},
     "output_type": "display_data"
    }
   ],
   "source": [
    "fig, ax = plt.subplots()\n",
    "ax.hist(data_male, bins=8, linewidth=0.5, edgecolor=\"white\")\n",
    "ax.set(xlim=(0, 9), xticks=np.arange(1, 9),\n",
    "       ylim=(0, 35), yticks=np.arange(0, 35, 5))\n",
    "plt.title('Количество дней у мужчин')\n",
    "plt.show();"
   ]
  },
  {
   "cell_type": "code",
   "execution_count": 34,
   "id": "e8a6192b",
   "metadata": {},
   "outputs": [
    {
     "data": {
      "image/png": "[encoded data removed]",
      "text/plain": [
       "<Figure size 200x200 with 1 Axes>"
      ]
     },
     "metadata": {},
     "output_type": "display_data"
    }
   ],
   "source": [
    "fig, ax = plt.subplots()\n",
    "ax.hist(data_female, bins=8, linewidth=0.5, edgecolor=\"white\")\n",
    "ax.set(xlim=(0, 9), xticks=np.arange(1, 9),\n",
    "       ylim=(0, 30), yticks=np.arange(0, 30, 5))\n",
    "plt.title('Количество дней у женщин')\n",
    "plt.show();"
   ]
  },
  {
   "cell_type": "markdown",
   "id": "42eefd4c",
   "metadata": {},
   "source": [
    "Отбираем данные, которые подходят по условию (work_days)."
   ]
  },
  {
   "cell_type": "code",
   "execution_count": 35,
   "id": "393e45cc",
   "metadata": {},
   "outputs": [],
   "source": [
    "data_male = data_male[data_male > work_days] \\\n",
    "    .reset_index() \\\n",
    "    .drop('index', axis=1)\n",
    "\n",
    "data_female = data_female[data_female > work_days] \\\n",
    "    .reset_index() \\\n",
    "    .drop('index', axis=1)"
   ]
  },
  {
   "cell_type": "markdown",
   "id": "aa942623",
   "metadata": {},
   "source": [
    "Рассмотрим полученные данные."
   ]
  },
  {
   "cell_type": "code",
   "execution_count": 36,
   "id": "d6f75406",
   "metadata": {},
   "outputs": [
    {
     "data": {
      "text/html": [
       "<div>\n",
       "<style scoped>\n",
       "    .dataframe tbody tr th:only-of-type {\n",
       "        vertical-align: middle;\n",
       "    }\n",
       "\n",
       "    .dataframe tbody tr th {\n",
       "        vertical-align: top;\n",
       "    }\n",
       "\n",
       "    .dataframe thead th {\n",
       "        text-align: right;\n",
       "    }\n",
       "</style>\n",
       "<table border=\"1\" class=\"dataframe\">\n",
       "  <thead>\n",
       "    <tr style=\"text-align: right;\">\n",
       "      <th></th>\n",
       "      <th>Количество больничных дней у мужчин</th>\n",
       "      <th>Количество больничных дней у женщин</th>\n",
       "    </tr>\n",
       "  </thead>\n",
       "  <tbody>\n",
       "    <tr>\n",
       "      <th>count</th>\n",
       "      <td>84.000000</td>\n",
       "      <td>67.000000</td>\n",
       "    </tr>\n",
       "    <tr>\n",
       "      <th>mean</th>\n",
       "      <td>4.333333</td>\n",
       "      <td>4.238806</td>\n",
       "    </tr>\n",
       "    <tr>\n",
       "      <th>std</th>\n",
       "      <td>1.475367</td>\n",
       "      <td>1.268375</td>\n",
       "    </tr>\n",
       "    <tr>\n",
       "      <th>min</th>\n",
       "      <td>3.000000</td>\n",
       "      <td>3.000000</td>\n",
       "    </tr>\n",
       "    <tr>\n",
       "      <th>25%</th>\n",
       "      <td>3.000000</td>\n",
       "      <td>3.000000</td>\n",
       "    </tr>\n",
       "    <tr>\n",
       "      <th>50%</th>\n",
       "      <td>4.000000</td>\n",
       "      <td>4.000000</td>\n",
       "    </tr>\n",
       "    <tr>\n",
       "      <th>75%</th>\n",
       "      <td>5.000000</td>\n",
       "      <td>5.000000</td>\n",
       "    </tr>\n",
       "    <tr>\n",
       "      <th>max</th>\n",
       "      <td>8.000000</td>\n",
       "      <td>8.000000</td>\n",
       "    </tr>\n",
       "  </tbody>\n",
       "</table>\n",
       "</div>"
      ],
      "text/plain": [
       "       Количество больничных дней у мужчин  \\\n",
       "count                            84.000000   \n",
       "mean                              4.333333   \n",
       "std                               1.475367   \n",
       "min                               3.000000   \n",
       "25%                               3.000000   \n",
       "50%                               4.000000   \n",
       "75%                               5.000000   \n",
       "max                               8.000000   \n",
       "\n",
       "       Количество больничных дней у женщин  \n",
       "count                            67.000000  \n",
       "mean                              4.238806  \n",
       "std                               1.268375  \n",
       "min                               3.000000  \n",
       "25%                               3.000000  \n",
       "50%                               4.000000  \n",
       "75%                               5.000000  \n",
       "max                               8.000000  "
      ]
     },
     "execution_count": 36,
     "metadata": {},
     "output_type": "execute_result"
    }
   ],
   "source": [
    "pd.concat([\n",
    "    data_male.rename({'Количество больничных дней': 'Количество больничных дней у мужчин'}, axis=1).describe(), \n",
    "    data_female.rename({'Количество больничных дней': 'Количество больничных дней у женщин'}, axis=1).describe()\n",
    "], axis=1)"
   ]
  },
  {
   "cell_type": "markdown",
   "id": "9b9de4d5",
   "metadata": {},
   "source": [
    "Проверим нулевую гипотезу с помощью дисперсионного анализа (ANOVA), t-теста, U-критерия Манна — Уитни"
   ]
  },
  {
   "cell_type": "code",
   "execution_count": 37,
   "id": "f6a38a89",
   "metadata": {},
   "outputs": [
    {
     "name": "stdout",
     "output_type": "stream",
     "text": [
      "ANOVA p-value = 0.6780633210328133\n",
      "t-test p-value = 0.5789617367658996\n",
      "Mann-Whitney  p-value = 0.8654161396657263\n"
     ]
    }
   ],
   "source": [
    "stat, anova_p = f_oneway(data_male, data_female)\n",
    "print(f'ANOVA p-value = {anova_p[0]}')\n",
    "\n",
    "min_data_shape = min(data_female.shape[0], data_male.shape[0])\n",
    "\n",
    "stat, p = ttest_ind(data_male[:min_data_shape], data_female[:min_data_shape])\n",
    "print(f't-test p-value = {p[0]}')\n",
    "\n",
    "stat, p = mannwhitneyu(data_male[:min_data_shape], data_female[:min_data_shape])\n",
    "print(f'Mann-Whitney  p-value = {p[0]}')"
   ]
  },
  {
   "cell_type": "markdown",
   "id": "f4c6db87",
   "metadata": {},
   "source": [
    "Полученные значения > 0.05 - отвергаем нулевую гипотезу.\n",
    "\n",
    "Следовательно, имеет место значимая разница между значениями длительности болезни у женщин и мужчин.\n"
   ]
  },
  {
   "cell_type": "code",
   "execution_count": 38,
   "id": "007f0c04",
   "metadata": {},
   "outputs": [
    {
     "name": "stdout",
     "output_type": "stream",
     "text": [
      "Гипотеза 1 подтверждена. Мужчины пропускают по болезни более 2 дней в течение года значимо чаще женщин.\n"
     ]
    }
   ],
   "source": [
    "if data_male['Количество больничных дней'].mean() > data_female['Количество больничных дней'].mean():\n",
    "    print(f'Гипотеза 1 подтверждена. Мужчины пропускают по болезни более {work_days} дней в течение года значимо чаще женщин.')\n",
    "else:\n",
    "    print('Женщины пропускают по болезни чаще мужчин. Гипотеза 1 отклонена')"
   ]
  },
  {
   "cell_type": "markdown",
   "id": "1bed7d5b",
   "metadata": {},
   "source": [
    "**Проверка гипотезы 2**\n",
    "\n",
    "Требуется проверить, что работники старше 35 лет (age) пропускают в течение года более 2 рабочих дней\n",
    "(work_days) по болезни значимо чаще своих более молодых коллег.\n",
    "\n",
    "H0 (нулевая гипотеза) - работники старше 35 лет пропускают более 2 рабочих дней не чаще более молодых коллег.\n",
    "\n",
    "Н1 - работники старше 35 лет пропускают более 2 рабочих дней значимо чаще более молодых коллег.\n",
    "\n",
    "Сначала разделим данные на выборки по условию (пол)."
   ]
  },
  {
   "cell_type": "code",
   "execution_count": 39,
   "id": "3d7edcae",
   "metadata": {},
   "outputs": [],
   "source": [
    "data_old = data[data['Возраст'] > age]['Количество больничных дней']\n",
    "data_young = data[data['Возраст'] <= age]['Количество больничных дней']"
   ]
  },
  {
   "cell_type": "markdown",
   "id": "0975c4c3",
   "metadata": {},
   "source": [
    "Для наглядности построим графики распределения количества дней, пропущенных по болезни."
   ]
  },
  {
   "cell_type": "code",
   "execution_count": 40,
   "id": "75a539fd",
   "metadata": {},
   "outputs": [
    {
     "data": {
      "image/png": "[encoded data removed]",
      "text/plain": [
       "<Figure size 200x200 with 1 Axes>"
      ]
     },
     "metadata": {},
     "output_type": "display_data"
    }
   ],
   "source": [
    "fig, ax = plt.subplots()\n",
    "ax.hist(data_old, bins=8, linewidth=0.5, edgecolor=\"white\")\n",
    "ax.set(xlim=(0, 9), xticks=np.arange(1, 9),\n",
    "       ylim=(0, 50), yticks=np.arange(0, 50, 5))\n",
    "plt.title('Количество дней у работников старше 35 лет')\n",
    "plt.show();"
   ]
  },
  {
   "cell_type": "code",
   "execution_count": 41,
   "id": "2b0653af",
   "metadata": {},
   "outputs": [
    {
     "data": {
      "image/png": "[encoded data removed]",
      "text/plain": [
       "<Figure size 200x200 with 1 Axes>"
      ]
     },
     "metadata": {},
     "output_type": "display_data"
    }
   ],
   "source": [
    "fig, ax = plt.subplots()\n",
    "ax.hist(data_young, bins=8, linewidth=0.5, edgecolor=\"white\")\n",
    "ax.set(xlim=(0, 9), xticks=np.arange(1, 9),\n",
    "       ylim=(0, 20), yticks=np.arange(0, 20, 5))\n",
    "plt.title('Количество дней у работников младше 35 лет')\n",
    "plt.show();"
   ]
  },
  {
   "cell_type": "markdown",
   "id": "1e0078f9",
   "metadata": {},
   "source": [
    "Отбираем данные, которые подходят по условию (work_days)."
   ]
  },
  {
   "cell_type": "code",
   "execution_count": 42,
   "id": "d7c9e1a4",
   "metadata": {},
   "outputs": [],
   "source": [
    "data_old = pd.DataFrame(data_old[data_old > work_days]) \\\n",
    "    .reset_index() \\\n",
    "    .drop('index', axis=1)\n",
    "\n",
    "data_young = pd.DataFrame(data_young[data_young > work_days]) \\\n",
    "    .reset_index() \\\n",
    "    .drop('index', axis=1)"
   ]
  },
  {
   "cell_type": "markdown",
   "id": "508ae09d",
   "metadata": {},
   "source": [
    "Рассмотрим полученные данные."
   ]
  },
  {
   "cell_type": "code",
   "execution_count": 43,
   "id": "b4201b45",
   "metadata": {},
   "outputs": [
    {
     "data": {
      "text/html": [
       "<div>\n",
       "<style scoped>\n",
       "    .dataframe tbody tr th:only-of-type {\n",
       "        vertical-align: middle;\n",
       "    }\n",
       "\n",
       "    .dataframe tbody tr th {\n",
       "        vertical-align: top;\n",
       "    }\n",
       "\n",
       "    .dataframe thead th {\n",
       "        text-align: right;\n",
       "    }\n",
       "</style>\n",
       "<table border=\"1\" class=\"dataframe\">\n",
       "  <thead>\n",
       "    <tr style=\"text-align: right;\">\n",
       "      <th></th>\n",
       "      <th>Больничные дни у работников старше 35 лет</th>\n",
       "      <th>Больничные дни у работников младше 35 лет</th>\n",
       "    </tr>\n",
       "  </thead>\n",
       "  <tbody>\n",
       "    <tr>\n",
       "      <th>count</th>\n",
       "      <td>115.000000</td>\n",
       "      <td>36.000000</td>\n",
       "    </tr>\n",
       "    <tr>\n",
       "      <th>mean</th>\n",
       "      <td>4.243478</td>\n",
       "      <td>4.444444</td>\n",
       "    </tr>\n",
       "    <tr>\n",
       "      <th>std</th>\n",
       "      <td>1.361058</td>\n",
       "      <td>1.462765</td>\n",
       "    </tr>\n",
       "    <tr>\n",
       "      <th>min</th>\n",
       "      <td>3.000000</td>\n",
       "      <td>3.000000</td>\n",
       "    </tr>\n",
       "    <tr>\n",
       "      <th>25%</th>\n",
       "      <td>3.000000</td>\n",
       "      <td>3.000000</td>\n",
       "    </tr>\n",
       "    <tr>\n",
       "      <th>50%</th>\n",
       "      <td>4.000000</td>\n",
       "      <td>4.000000</td>\n",
       "    </tr>\n",
       "    <tr>\n",
       "      <th>75%</th>\n",
       "      <td>5.000000</td>\n",
       "      <td>5.000000</td>\n",
       "    </tr>\n",
       "    <tr>\n",
       "      <th>max</th>\n",
       "      <td>8.000000</td>\n",
       "      <td>8.000000</td>\n",
       "    </tr>\n",
       "  </tbody>\n",
       "</table>\n",
       "</div>"
      ],
      "text/plain": [
       "       Больничные дни у работников старше 35 лет  \\\n",
       "count                                 115.000000   \n",
       "mean                                    4.243478   \n",
       "std                                     1.361058   \n",
       "min                                     3.000000   \n",
       "25%                                     3.000000   \n",
       "50%                                     4.000000   \n",
       "75%                                     5.000000   \n",
       "max                                     8.000000   \n",
       "\n",
       "       Больничные дни у работников младше 35 лет  \n",
       "count                                  36.000000  \n",
       "mean                                    4.444444  \n",
       "std                                     1.462765  \n",
       "min                                     3.000000  \n",
       "25%                                     3.000000  \n",
       "50%                                     4.000000  \n",
       "75%                                     5.000000  \n",
       "max                                     8.000000  "
      ]
     },
     "execution_count": 43,
     "metadata": {},
     "output_type": "execute_result"
    }
   ],
   "source": [
    "pd.concat([data_old.rename({'Количество больничных дней': 'Больничные дни у работников старше 35 лет'}, axis=1).describe(), \n",
    "           data_young.rename({'Количество больничных дней': 'Больничные дни у работников младше 35 лет'}, axis=1).describe()], axis=1)"
   ]
  },
  {
   "cell_type": "markdown",
   "id": "c201d979",
   "metadata": {},
   "source": [
    "Проверим нулевую гипотезу с помощью дисперсионного анализа (ANOVA), t-теста, U-критерия Манна — Уитни."
   ]
  },
  {
   "cell_type": "code",
   "execution_count": 44,
   "id": "f2333d55",
   "metadata": {},
   "outputs": [
    {
     "name": "stdout",
     "output_type": "stream",
     "text": [
      "ANOVA p-value = 0.44879229579719326\n",
      "t-test p-value = 0.1846422372509844\n",
      "Mann-Whitney  p-value = 0.2313967862877805\n"
     ]
    }
   ],
   "source": [
    "stat, anova_p = f_oneway(data_old, data_young)\n",
    "print(f'ANOVA p-value = {anova_p[0]}')\n",
    "\n",
    "min_data_shape = min(data_old.shape[0], data_young.shape[0])\n",
    "\n",
    "stat, p = ttest_ind(data_old[:min_data_shape], data_young[:min_data_shape])\n",
    "print(f't-test p-value = {p[0]}')\n",
    "\n",
    "stat, p = mannwhitneyu(data_old[:min_data_shape], data_young[:min_data_shape])\n",
    "print(f'Mann-Whitney  p-value = {p[0]}')"
   ]
  },
  {
   "cell_type": "markdown",
   "id": "1ed7fd27",
   "metadata": {},
   "source": [
    "Полученные значения > 0.05 - отвергаем нулевую гипотезу.\n",
    "\n",
    "Следовательно, имеет место значимая разница между значениями длительности болезни у работников старше и младше 35 лет.\n"
   ]
  },
  {
   "cell_type": "code",
   "execution_count": 45,
   "id": "c0cde81a",
   "metadata": {},
   "outputs": [
    {
     "name": "stdout",
     "output_type": "stream",
     "text": [
      "Гипотеза 2 отклонена. Работники младше 35 лет пропускают чаще.\n"
     ]
    }
   ],
   "source": [
    "if data_old['Количество больничных дней'].mean() > data_young['Количество больничных дней'].mean():\n",
    "    print('Гипотеза 2 подтверждена.')\n",
    "else:\n",
    "    print(f'Гипотеза 2 отклонена. Работники младше {age} лет пропускают чаще.')"
   ]
  }
 ],
 "metadata": {
  "kernelspec": {
   "display_name": "Python 3 (ipykernel)",
   "language": "python",
   "name": "python3"
  },
  "language_info": {
   "codemirror_mode": {
    "name": "ipython",
    "version": 3
   },
   "file_extension": ".py",
   "mimetype": "text/x-python",
   "name": "python",
   "nbconvert_exporter": "python",
   "pygments_lexer": "ipython3",
   "version": "3.10.9"
  }
 },
 "nbformat": 4,
 "nbformat_minor": 5
}
